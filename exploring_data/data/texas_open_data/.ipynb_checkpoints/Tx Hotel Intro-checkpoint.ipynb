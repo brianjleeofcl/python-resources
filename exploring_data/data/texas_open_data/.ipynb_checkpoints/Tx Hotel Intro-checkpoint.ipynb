{
 "cells": [
  {
   "cell_type": "code",
   "execution_count": 2,
   "metadata": {
    "collapsed": false
   },
   "outputs": [],
   "source": [
    "import pandas as pd\n",
    "import seaborn as sns\n",
    "fpath = 'Hotel_Occupancy_Tax_Receipts__Monthly.csv'\n",
    "df = pd.read_csv(fpath)"
   ]
  },
  {
   "cell_type": "code",
   "execution_count": 3,
   "metadata": {
    "collapsed": false
   },
   "outputs": [
    {
     "data": {
      "text/html": [
       "<div>\n",
       "<table border=\"1\" class=\"dataframe\">\n",
       "  <thead>\n",
       "    <tr style=\"text-align: right;\">\n",
       "      <th></th>\n",
       "      <th>Month</th>\n",
       "      <th>Year</th>\n",
       "      <th>Taxpayer Number</th>\n",
       "      <th>Taxpayer Name</th>\n",
       "      <th>Taxpayer Address</th>\n",
       "      <th>Taxpayer City</th>\n",
       "      <th>Taxpayer State</th>\n",
       "      <th>Taxpayer Zip</th>\n",
       "      <th>Taxpayer County</th>\n",
       "      <th>Outlet Number</th>\n",
       "      <th>...</th>\n",
       "      <th>Location Address</th>\n",
       "      <th>Location City</th>\n",
       "      <th>Location State</th>\n",
       "      <th>Location Zip</th>\n",
       "      <th>Location County</th>\n",
       "      <th>Location Room Capacity</th>\n",
       "      <th>Location Tot Room Receipts</th>\n",
       "      <th>Location Taxable Receipts</th>\n",
       "      <th>Taxpayer Geolocation</th>\n",
       "      <th>Location Geolocation</th>\n",
       "    </tr>\n",
       "  </thead>\n",
       "  <tbody>\n",
       "    <tr>\n",
       "      <th>0</th>\n",
       "      <td>7</td>\n",
       "      <td>2015</td>\n",
       "      <td>32009496855</td>\n",
       "      <td>MARCUS C STARKEY</td>\n",
       "      <td>PO BOX 1780</td>\n",
       "      <td>PORT ARANSAS</td>\n",
       "      <td>TX</td>\n",
       "      <td>78373.0</td>\n",
       "      <td>178</td>\n",
       "      <td>155</td>\n",
       "      <td>...</td>\n",
       "      <td>2012 HWY 361 #114</td>\n",
       "      <td>PORT ARANSAS</td>\n",
       "      <td>TX</td>\n",
       "      <td>78373</td>\n",
       "      <td>178.0</td>\n",
       "      <td>1</td>\n",
       "      <td>$6010.00</td>\n",
       "      <td>$6010.00</td>\n",
       "      <td>PO BOX 1780\\nPORT ARANSAS, TX 78373\\n</td>\n",
       "      <td>2012 HWY 361 #114\\nPORT ARANSAS, TX 78373\\n</td>\n",
       "    </tr>\n",
       "    <tr>\n",
       "      <th>1</th>\n",
       "      <td>7</td>\n",
       "      <td>2015</td>\n",
       "      <td>32009496855</td>\n",
       "      <td>MARCUS C STARKEY</td>\n",
       "      <td>PO BOX 1780</td>\n",
       "      <td>PORT ARANSAS</td>\n",
       "      <td>TX</td>\n",
       "      <td>78373.0</td>\n",
       "      <td>178</td>\n",
       "      <td>156</td>\n",
       "      <td>...</td>\n",
       "      <td>2012 HWY 361 # 205</td>\n",
       "      <td>PORT ARANSAS</td>\n",
       "      <td>TX</td>\n",
       "      <td>78373</td>\n",
       "      <td>178.0</td>\n",
       "      <td>1</td>\n",
       "      <td>$9855.00</td>\n",
       "      <td>$9855.00</td>\n",
       "      <td>PO BOX 1780\\nPORT ARANSAS, TX 78373\\n</td>\n",
       "      <td>2012 HWY 361 # 205\\nPORT ARANSAS, TX 78373\\n</td>\n",
       "    </tr>\n",
       "    <tr>\n",
       "      <th>2</th>\n",
       "      <td>7</td>\n",
       "      <td>2015</td>\n",
       "      <td>32009496855</td>\n",
       "      <td>MARCUS C STARKEY</td>\n",
       "      <td>PO BOX 1780</td>\n",
       "      <td>PORT ARANSAS</td>\n",
       "      <td>TX</td>\n",
       "      <td>78373.0</td>\n",
       "      <td>178</td>\n",
       "      <td>194</td>\n",
       "      <td>...</td>\n",
       "      <td>2012 HWY 361 #101</td>\n",
       "      <td>PORT ARANSAS</td>\n",
       "      <td>TX</td>\n",
       "      <td>78373</td>\n",
       "      <td>178.0</td>\n",
       "      <td>1</td>\n",
       "      <td>$9425.00</td>\n",
       "      <td>$9425.00</td>\n",
       "      <td>PO BOX 1780\\nPORT ARANSAS, TX 78373\\n</td>\n",
       "      <td>2012 HWY 361 #101\\nPORT ARANSAS, TX 78373\\n</td>\n",
       "    </tr>\n",
       "  </tbody>\n",
       "</table>\n",
       "<p>3 rows × 21 columns</p>\n",
       "</div>"
      ],
      "text/plain": [
       "   Month  Year  Taxpayer Number     Taxpayer Name Taxpayer Address  \\\n",
       "0      7  2015      32009496855  MARCUS C STARKEY      PO BOX 1780   \n",
       "1      7  2015      32009496855  MARCUS C STARKEY      PO BOX 1780   \n",
       "2      7  2015      32009496855  MARCUS C STARKEY      PO BOX 1780   \n",
       "\n",
       "  Taxpayer City Taxpayer State  Taxpayer Zip  Taxpayer County  Outlet Number  \\\n",
       "0  PORT ARANSAS             TX       78373.0              178            155   \n",
       "1  PORT ARANSAS             TX       78373.0              178            156   \n",
       "2  PORT ARANSAS             TX       78373.0              178            194   \n",
       "\n",
       "                       ...                         Location Address  \\\n",
       "0                      ...                        2012 HWY 361 #114   \n",
       "1                      ...                       2012 HWY 361 # 205   \n",
       "2                      ...                        2012 HWY 361 #101   \n",
       "\n",
       "  Location City Location State Location Zip  Location County  \\\n",
       "0  PORT ARANSAS             TX        78373            178.0   \n",
       "1  PORT ARANSAS             TX        78373            178.0   \n",
       "2  PORT ARANSAS             TX        78373            178.0   \n",
       "\n",
       "   Location Room Capacity  Location Tot Room Receipts  \\\n",
       "0                       1                    $6010.00   \n",
       "1                       1                    $9855.00   \n",
       "2                       1                    $9425.00   \n",
       "\n",
       "  Location Taxable Receipts                   Taxpayer Geolocation  \\\n",
       "0                  $6010.00  PO BOX 1780\\nPORT ARANSAS, TX 78373\\n   \n",
       "1                  $9855.00  PO BOX 1780\\nPORT ARANSAS, TX 78373\\n   \n",
       "2                  $9425.00  PO BOX 1780\\nPORT ARANSAS, TX 78373\\n   \n",
       "\n",
       "                           Location Geolocation  \n",
       "0   2012 HWY 361 #114\\nPORT ARANSAS, TX 78373\\n  \n",
       "1  2012 HWY 361 # 205\\nPORT ARANSAS, TX 78373\\n  \n",
       "2   2012 HWY 361 #101\\nPORT ARANSAS, TX 78373\\n  \n",
       "\n",
       "[3 rows x 21 columns]"
      ]
     },
     "execution_count": 3,
     "metadata": {},
     "output_type": "execute_result"
    }
   ],
   "source": [
    "df.head(3)"
   ]
  },
  {
   "cell_type": "code",
   "execution_count": 8,
   "metadata": {
    "collapsed": false
   },
   "outputs": [],
   "source": [
    "dataframe['Location Tot Room Receipts'] = dataframe['Location Tot Room Receipts'].replace('[\\$,]','',regex=True).astype(float,inplace=True)"
   ]
  },
  {
   "cell_type": "code",
   "execution_count": 7,
   "metadata": {
    "collapsed": true
   },
   "outputs": [],
   "source": [
    "from copy import deepcopy\n",
    "dataframe = deepcopy(df)"
   ]
  },
  {
   "cell_type": "code",
   "execution_count": 9,
   "metadata": {
    "collapsed": false
   },
   "outputs": [
    {
     "name": "stdout",
     "output_type": "stream",
     "text": [
      "<class 'pandas.core.frame.DataFrame'>\n",
      "RangeIndex: 17977 entries, 0 to 17976\n",
      "Data columns (total 21 columns):\n",
      "Month                         17977 non-null int64\n",
      "Year                          17977 non-null int64\n",
      "Taxpayer Number               17977 non-null int64\n",
      "Taxpayer Name                 17977 non-null object\n",
      "Taxpayer Address              17977 non-null object\n",
      "Taxpayer City                 17977 non-null object\n",
      "Taxpayer State                17975 non-null object\n",
      "Taxpayer Zip                  17975 non-null float64\n",
      "Taxpayer County               17977 non-null int64\n",
      "Outlet Number                 17977 non-null int64\n",
      "Location Name                 17977 non-null object\n",
      "Location Address              17977 non-null object\n",
      "Location City                 17977 non-null object\n",
      "Location State                17977 non-null object\n",
      "Location Zip                  17977 non-null int64\n",
      "Location County               17975 non-null float64\n",
      "Location Room Capacity        17977 non-null int64\n",
      "Location Tot Room Receipts    17977 non-null float64\n",
      "Location Taxable Receipts     17977 non-null object\n",
      "Taxpayer Geolocation          17977 non-null object\n",
      "Location Geolocation          17977 non-null object\n",
      "dtypes: float64(3), int64(7), object(11)\n",
      "memory usage: 2.9+ MB\n"
     ]
    }
   ],
   "source": [
    "dataframe.info()"
   ]
  },
  {
   "cell_type": "code",
   "execution_count": 12,
   "metadata": {
    "collapsed": false
   },
   "outputs": [
    {
     "data": {
      "text/plain": [
       "<matplotlib.axes._subplots.AxesSubplot at 0x107e23350>"
      ]
     },
     "execution_count": 12,
     "metadata": {},
     "output_type": "execute_result"
    },
    {
     "data": {
      "image/png": "[encoded data removed]",
      "text/plain": [
       "<matplotlib.figure.Figure at 0x107e0dd50>"
      ]
     },
     "metadata": {},
     "output_type": "display_data"
    }
   ],
   "source": [
    "dataframe['Location Room Capacity'].hist(bins=100)"
   ]
  },
  {
   "cell_type": "code",
   "execution_count": 11,
   "metadata": {
    "collapsed": true
   },
   "outputs": [],
   "source": [
    "%matplotlib inline"
   ]
  },
  {
   "cell_type": "code",
   "execution_count": 13,
   "metadata": {
    "collapsed": false
   },
   "outputs": [
    {
     "data": {
      "text/plain": [
       "<matplotlib.axes._subplots.AxesSubplot at 0x1083c3210>"
      ]
     },
     "execution_count": 13,
     "metadata": {},
     "output_type": "execute_result"
    },
    {
     "data": {
      "image/png": "[encoded data removed]",
      "text/plain": [
       "<matplotlib.figure.Figure at 0x1083eb3d0>"
      ]
     },
     "metadata": {},
     "output_type": "display_data"
    }
   ],
   "source": [
    "rows_of_interest = (dataframe['Location Room Capacity'] < 50)\n",
    "dataframe['Location Room Capacity'].hist(bins=100)"
   ]
  },
  {
   "cell_type": "code",
   "execution_count": 15,
   "metadata": {
    "collapsed": false
   },
   "outputs": [
    {
     "data": {
      "text/plain": [
       "<matplotlib.axes._subplots.AxesSubplot at 0x108854d10>"
      ]
     },
     "execution_count": 15,
     "metadata": {},
     "output_type": "execute_result"
    },
    {
     "data": {
      "image/png": "[encoded data removed]",
      "text/plain": [
       "<matplotlib.figure.Figure at 0x108865310>"
      ]
     },
     "metadata": {},
     "output_type": "display_data"
    }
   ],
   "source": [
    "rows_of_interest = (dataframe['Location Room Capacity'] < 50)\n",
    "dataframe['Location Room Capacity'][rows_of_interest].hist(bins=100)"
   ]
  },
  {
   "cell_type": "code",
   "execution_count": 16,
   "metadata": {
    "collapsed": false
   },
   "outputs": [
    {
     "data": {
      "text/plain": [
       "5276"
      ]
     },
     "execution_count": 16,
     "metadata": {},
     "output_type": "execute_result"
    }
   ],
   "source": [
    "(dataframe['Location Room Capacity'] == 1).sum()"
   ]
  },
  {
   "cell_type": "code",
   "execution_count": 17,
   "metadata": {
    "collapsed": true
   },
   "outputs": [],
   "source": [
    "texas_df = dataframe[dataframe['Location State']=='TX']"
   ]
  },
  {
   "cell_type": "code",
   "execution_count": 20,
   "metadata": {
    "collapsed": false
   },
   "outputs": [
    {
     "data": {
      "text/plain": [
       "count            17975\n",
       "unique             696\n",
       "top       PORT ARANSAS\n",
       "freq              1476\n",
       "Name: Location City, dtype: object"
      ]
     },
     "execution_count": 20,
     "metadata": {},
     "output_type": "execute_result"
    }
   ],
   "source": [
    "texas_df['Location City'].describe()"
   ]
  },
  {
   "cell_type": "code",
   "execution_count": 21,
   "metadata": {
    "collapsed": true
   },
   "outputs": [],
   "source": [
    "city_counts = texas_df.groupby('Location City')['Taxpayer Number'].nunique()"
   ]
  },
  {
   "cell_type": "code",
   "execution_count": 24,
   "metadata": {
    "collapsed": true
   },
   "outputs": [],
   "source": [
    "top_cities = city_counts > 50"
   ]
  },
  {
   "cell_type": "code",
   "execution_count": 23,
   "metadata": {
    "collapsed": true
   },
   "outputs": [],
   "source": [
    "city_counts.sort_values(axis=0, ascending=False, inplace=True)"
   ]
  },
  {
   "cell_type": "code",
   "execution_count": 25,
   "metadata": {
    "collapsed": false
   },
   "outputs": [
    {
     "data": {
      "text/plain": [
       "<matplotlib.text.Text at 0x109557510>"
      ]
     },
     "execution_count": 25,
     "metadata": {},
     "output_type": "execute_result"
    },
    {
     "data": {
      "image/png": "[encoded data removed]",
      "text/plain": [
       "<matplotlib.figure.Figure at 0x1094c4350>"
      ]
     },
     "metadata": {},
     "output_type": "display_data"
    }
   ],
   "source": [
    "city_counts[top_cities].plot(kind='bar').set_ylabel('# unique hotels')"
   ]
  },
  {
   "cell_type": "code",
   "execution_count": null,
   "metadata": {
    "collapsed": true
   },
   "outputs": [],
   "source": []
  }
 ],
 "metadata": {
  "kernelspec": {
   "display_name": "Python 2",
   "language": "python",
   "name": "python2"
  },
  "language_info": {
   "codemirror_mode": {
    "name": "ipython",
    "version": 2
   },
   "file_extension": ".py",
   "mimetype": "text/x-python",
   "name": "python",
   "nbconvert_exporter": "python",
   "pygments_lexer": "ipython2",
   "version": "2.7.12"
  }
 },
 "nbformat": 4,
 "nbformat_minor": 1
}
